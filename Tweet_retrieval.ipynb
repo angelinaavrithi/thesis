{
 "cells": [
  {
   "cell_type": "code",
   "execution_count": 1,
   "metadata": {},
   "outputs": [],
   "source": [
    "import tweepy\n",
    "import pandas as pd"
   ]
  },
  {
   "cell_type": "code",
   "execution_count": 2,
   "metadata": {},
   "outputs": [],
   "source": [
    "df =  pd.read_csv(\"dataset_gr.txt\")\n",
    "tweet_ids = df['id'].tolist()"
   ]
  },
  {
   "cell_type": "code",
   "execution_count": 3,
   "metadata": {},
   "outputs": [],
   "source": [
    "auth = tweepy.OAuthHandler('i5FH8HsR36FdXAGO5fac7FNFu', 'AMZ7AEhblpe24ALagjIGurL8W33nT3b2MVR9TPvIQ1y6aVAtxH')\n",
    "auth.set_access_token('1611275936-Az5JPqcG1LIgbi9btSfMa4DQev97IVlvevD0h9E', 'mOdhTM7iPEDr4mteClFnF5NRN39GHXKXNhOcYpsB5zFMv')\n",
    "api = tweepy.API(auth)\n",
    "\n",
    "def get_tweet_text(tweet_id):\n",
    "    tweet = api.get_status(tweet_id)\n",
    "    return tweet.text"
   ]
  },
  {
   "cell_type": "code",
   "execution_count": 4,
   "metadata": {},
   "outputs": [
    {
     "name": "stdout",
     "output_type": "stream",
     "text": [
      "Θυμάστε πριν χρόνια που κοιμόμασταν με ανοιχτά παράθυρα επειδή νιώθαμε ασφαλείς;\n",
      "\n",
      "Τώρα που καταδικάστηκε η χρυσή αυ… https://t.co/TbHKR7y94K\n",
      "Για να καταλάβουμε, η @MarianaPirgioti συμφωνεί με αποτέλεσμα πολ που είναι υπέρ του θανάτου του Κουφοντινα αλλά σο… https://t.co/28arSazTPb\n",
      "@NIKSOTIROPOYLOS Λες να ψηφίζει Πολακη;\n",
      "So the cage has finally open. https://t.co/de26Xu1KL4\n",
      "@KwstasMAIDEN Για 5 κιλά χόρτο ισόβια για φόνους αλλοδαπών και αντιφασιστών 13 χρόνια...\n",
      "Δικαιοσύνη στις δόξες τις !\n",
      "Ο κόσμος σάς ευχαριστεί για τη δροσερή πνοή δημοκρατίας. @PrimeministerGR\n",
      "Το πιο ανήθικο από όλα όμως είναι αυτό που έχει συμβεί με τους ρουσφετολογικούς εμβολιασμούς. Με αποκορύφωμα το πρό… https://t.co/KWx0yLWFoj\n",
      "Την Κυριακή με την ψήφο μας, υπογράφουμε μια νέα συμφωνία: Συμφωνία Αλήθειας, Ενότητας, Προόδου! Με Ισχυρή Ανάπτυξη… https://t.co/pmGOYOu3sT\n",
      "Error: Cannot retrieve tweet.\n",
      "Ο Πατήρ επικράτησε του Υιού με 70-30.\n",
      "\n",
      "Ευχαριστώ για την συμμετοχή σας. https://t.co/vTI9QsU8ZJ\n",
      "@andypapp @sam_spade23 Αυτό που προσπαθώ να σου πω είναι ότι αυτό το κράτος ΔΕ ΘΕΛΕΙ να σωθεί\n",
      "Εσείς σήμερα καλυβεστε ή θα μείνετε ξεκαλυβωτοι;\n",
      "Περιμένω. https://t.co/lTdGwzS92r\n",
      "Κατατίθεται στη Βουλή ο αντικαπνιστικός νόμος. Ένα στοίχημα που πρέπει να κερδηθεί σε συμμαχία με όλους τους πολίτε… https://t.co/9wCkcyH9vn\n",
      "Κακώς συντηρείτε τον ιδεολογικό διχασμό κ. Υπουργέ, τέτοιου είδους συμπεριφορές δεν έχουν αριστερό/δεξί πρόσημο. Εδ… https://t.co/gE76RYtmPu\n",
      "@silaserafim Δε βοηθάς για το αφήγημα...\n",
      "Στον Καμπαγιάννη ρε αχαχαχαχαχα\n",
      "Error: Cannot retrieve tweet.\n",
      "Κοίτα που ο Άδωνις είχε την αίσθηση ότι με το να απαγορεύσει τα πάντα στον Έλληνα, μπορεί να περάσει ο,τι κατάπτυστ… https://t.co/zkT86lMw85\n",
      "@palimetakis @CeliaSanchez_gr @g_kamma Πάμε να το ξαναδιατυπώσουμε σωστά:\n",
      "1. Κανένα παιδί δεν είναι λαθραίο όταν το… https://t.co/b9oUSNg8ic\n"
     ]
    }
   ],
   "source": [
    "tweets = []\n",
    "\n",
    "for x in tweet_ids:\n",
    "    try:\n",
    "        fetched = get_tweet_text(x)\n",
    "        print(fetched)\n",
    "        tweets.append(fetched)\n",
    "\n",
    "    except:\n",
    "        error = \"Error: Cannot retrieve tweet.\"\n",
    "        tweets.append(error)\n",
    "        print(error)\n",
    "        continue"
   ]
  },
  {
   "cell_type": "code",
   "execution_count": 5,
   "metadata": {},
   "outputs": [],
   "source": [
    "df['tweet'] = tweets"
   ]
  },
  {
   "cell_type": "code",
   "execution_count": 6,
   "metadata": {},
   "outputs": [
    {
     "name": "stdout",
     "output_type": "stream",
     "text": [
      "    Unnamed: 0                   id  label  \\\n",
      "0            0  1314808033466372096      1   \n",
      "1            1  1367965205372755971      0   \n",
      "2            2  1313319807945773056      0   \n",
      "3            3  1311644769584664578      0   \n",
      "4            4  1316350624544559104      0   \n",
      "5            5  1368619912273555460      0   \n",
      "6            6  1367498751988924426      0   \n",
      "7            7  1146869722467770368      0   \n",
      "8            8  1314471412866875394      0   \n",
      "9            9  1315964379070955520      0   \n",
      "10          10  1312991363538071553      0   \n",
      "11          11  1369934582800388098      0   \n",
      "12          12  1350695624757403650      0   \n",
      "13          13  1181915210162020352      0   \n",
      "14          14  1315301068998422528      0   \n",
      "15          15  1317487097008226304      0   \n",
      "16          16  1370005843115134977      0   \n",
      "17          17  1318948435769380865      0   \n",
      "18          18  1369654482196369409      0   \n",
      "19          19  1312277227116081152      1   \n",
      "\n",
      "                                                tweet  \n",
      "0   Θυμάστε πριν χρόνια που κοιμόμασταν με ανοιχτά...  \n",
      "1   Για να καταλάβουμε, η @MarianaPirgioti συμφωνε...  \n",
      "2             @NIKSOTIROPOYLOS Λες να ψηφίζει Πολακη;  \n",
      "3   So the cage has finally open. https://t.co/de2...  \n",
      "4   @KwstasMAIDEN Για 5 κιλά χόρτο ισόβια για φόνο...  \n",
      "5   Ο κόσμος σάς ευχαριστεί για τη δροσερή πνοή δη...  \n",
      "6   Το πιο ανήθικο από όλα όμως είναι αυτό που έχε...  \n",
      "7   Την Κυριακή με την ψήφο μας, υπογράφουμε μια ν...  \n",
      "8                       Error: Cannot retrieve tweet.  \n",
      "9   Ο Πατήρ επικράτησε του Υιού με 70-30.\\n\\nΕυχαρ...  \n",
      "10  @andypapp @sam_spade23 Αυτό που προσπαθώ να σο...  \n",
      "11   Εσείς σήμερα καλυβεστε ή θα μείνετε ξεκαλυβωτοι;  \n",
      "12                  Περιμένω. https://t.co/lTdGwzS92r  \n",
      "13  Κατατίθεται στη Βουλή ο αντικαπνιστικός νόμος....  \n",
      "14  Κακώς συντηρείτε τον ιδεολογικό διχασμό κ. Υπο...  \n",
      "15           @silaserafim Δε βοηθάς για το αφήγημα...  \n",
      "16                    Στον Καμπαγιάννη ρε αχαχαχαχαχα  \n",
      "17                      Error: Cannot retrieve tweet.  \n",
      "18  Κοίτα που ο Άδωνις είχε την αίσθηση ότι με το ...  \n",
      "19  @palimetakis @CeliaSanchez_gr @g_kamma Πάμε να...  \n"
     ]
    }
   ],
   "source": [
    "print(df)"
   ]
  },
  {
   "cell_type": "code",
   "execution_count": 7,
   "metadata": {},
   "outputs": [],
   "source": [
    "df.to_csv('dataset_gr.txt')"
   ]
  }
 ],
 "metadata": {
  "kernelspec": {
   "display_name": "Python 3",
   "language": "python",
   "name": "python3"
  },
  "language_info": {
   "codemirror_mode": {
    "name": "ipython",
    "version": 3
   },
   "file_extension": ".py",
   "mimetype": "text/x-python",
   "name": "python",
   "nbconvert_exporter": "python",
   "pygments_lexer": "ipython3",
   "version": "3.8.5"
  }
 },
 "nbformat": 4,
 "nbformat_minor": 4
}
